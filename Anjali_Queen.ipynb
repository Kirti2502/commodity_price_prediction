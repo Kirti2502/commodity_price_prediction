{
 "cells": [
  {
   "cell_type": "code",
   "execution_count": 1,
   "metadata": {
    "colab": {},
    "colab_type": "code",
    "id": "-L-SOOzpROQo"
   },
   "outputs": [],
   "source": [
    "import numpy as np\n",
    "import matplotlib.pyplot as plt\n",
    "import pandas as pd\n",
    "import pickle\n",
    "import seaborn as sns\n",
    "from sklearn import preprocessing"
   ]
  },
  {
   "cell_type": "code",
   "execution_count": 2,
   "metadata": {
    "colab": {},
    "colab_type": "code",
    "id": "rF8hhddbRORQ"
   },
   "outputs": [],
   "source": [
    "data_df = pd.read_csv('India_Key_Commodities_Retail_Prices_1997_2015.csv')\n"
   ]
  },
  {
   "cell_type": "code",
   "execution_count": 3,
   "metadata": {
    "colab": {
     "base_uri": "https://localhost:8080/",
     "height": 206
    },
    "colab_type": "code",
    "id": "nzfc0EipROS-",
    "outputId": "ca92efa1-f8b9-401a-fa25-08c5212a51e7"
   },
   "outputs": [
    {
     "data": {
      "text/html": [
       "<div>\n",
       "<style scoped>\n",
       "    .dataframe tbody tr th:only-of-type {\n",
       "        vertical-align: middle;\n",
       "    }\n",
       "\n",
       "    .dataframe tbody tr th {\n",
       "        vertical-align: top;\n",
       "    }\n",
       "\n",
       "    .dataframe thead th {\n",
       "        text-align: right;\n",
       "    }\n",
       "</style>\n",
       "<table border=\"1\" class=\"dataframe\">\n",
       "  <thead>\n",
       "    <tr style=\"text-align: right;\">\n",
       "      <th></th>\n",
       "      <th>Date</th>\n",
       "      <th>Centre</th>\n",
       "      <th>Commodity</th>\n",
       "      <th>Price per Kg</th>\n",
       "      <th>Region</th>\n",
       "      <th>Country</th>\n",
       "    </tr>\n",
       "  </thead>\n",
       "  <tbody>\n",
       "    <tr>\n",
       "      <th>0</th>\n",
       "      <td>25-11-1997</td>\n",
       "      <td>LUCKNOW</td>\n",
       "      <td>Tur/Arhar Dal</td>\n",
       "      <td>15.0</td>\n",
       "      <td>NORTH</td>\n",
       "      <td>INDIA</td>\n",
       "    </tr>\n",
       "    <tr>\n",
       "      <th>1</th>\n",
       "      <td>25-11-1997</td>\n",
       "      <td>BHOPAL</td>\n",
       "      <td>Tur/Arhar Dal</td>\n",
       "      <td>18.0</td>\n",
       "      <td>WEST</td>\n",
       "      <td>INDIA</td>\n",
       "    </tr>\n",
       "    <tr>\n",
       "      <th>2</th>\n",
       "      <td>25-11-1997</td>\n",
       "      <td>JAIPUR</td>\n",
       "      <td>Tur/Arhar Dal</td>\n",
       "      <td>20.0</td>\n",
       "      <td>WEST</td>\n",
       "      <td>INDIA</td>\n",
       "    </tr>\n",
       "    <tr>\n",
       "      <th>3</th>\n",
       "      <td>25-11-1997</td>\n",
       "      <td>SHIMLA</td>\n",
       "      <td>Tur/Arhar Dal</td>\n",
       "      <td>21.5</td>\n",
       "      <td>NORTH</td>\n",
       "      <td>INDIA</td>\n",
       "    </tr>\n",
       "    <tr>\n",
       "      <th>4</th>\n",
       "      <td>25-11-1997</td>\n",
       "      <td>AHMEDABAD</td>\n",
       "      <td>Tur/Arhar Dal</td>\n",
       "      <td>21.5</td>\n",
       "      <td>WEST</td>\n",
       "      <td>INDIA</td>\n",
       "    </tr>\n",
       "  </tbody>\n",
       "</table>\n",
       "</div>"
      ],
      "text/plain": [
       "         Date     Centre      Commodity  Price per Kg Region Country\n",
       "0  25-11-1997    LUCKNOW  Tur/Arhar Dal          15.0  NORTH   INDIA\n",
       "1  25-11-1997     BHOPAL  Tur/Arhar Dal          18.0   WEST   INDIA\n",
       "2  25-11-1997     JAIPUR  Tur/Arhar Dal          20.0   WEST   INDIA\n",
       "3  25-11-1997     SHIMLA  Tur/Arhar Dal          21.5  NORTH   INDIA\n",
       "4  25-11-1997  AHMEDABAD  Tur/Arhar Dal          21.5   WEST   INDIA"
      ]
     },
     "execution_count": 3,
     "metadata": {},
     "output_type": "execute_result"
    }
   ],
   "source": [
    "data_df.head()"
   ]
  },
  {
   "cell_type": "code",
   "execution_count": 4,
   "metadata": {
    "colab": {},
    "colab_type": "code",
    "id": "S6UY8mMiROTV"
   },
   "outputs": [],
   "source": [
    "data_df['Date'] = pd.to_datetime(data_df['Date'], format='%d-%m-%Y' )\n"
   ]
  },
  {
   "cell_type": "code",
   "execution_count": 5,
   "metadata": {
    "colab": {},
    "colab_type": "code",
    "id": "6COA_SFiROTm"
   },
   "outputs": [],
   "source": [
    "data_df['Year'] = data_df['Date'].dt.year\n",
    "data_df['Month'] = data_df['Date'].dt.month\n",
    "data_df['Day'] = data_df['Date'].dt.day"
   ]
  },
  {
   "cell_type": "code",
   "execution_count": 6,
   "metadata": {
    "colab": {
     "base_uri": "https://localhost:8080/",
     "height": 206
    },
    "colab_type": "code",
    "id": "zd4Q5WihROT4",
    "outputId": "4af1f32d-dde0-44a4-89a8-0e94cc9dbb9c"
   },
   "outputs": [
    {
     "data": {
      "text/html": [
       "<div>\n",
       "<style scoped>\n",
       "    .dataframe tbody tr th:only-of-type {\n",
       "        vertical-align: middle;\n",
       "    }\n",
       "\n",
       "    .dataframe tbody tr th {\n",
       "        vertical-align: top;\n",
       "    }\n",
       "\n",
       "    .dataframe thead th {\n",
       "        text-align: right;\n",
       "    }\n",
       "</style>\n",
       "<table border=\"1\" class=\"dataframe\">\n",
       "  <thead>\n",
       "    <tr style=\"text-align: right;\">\n",
       "      <th></th>\n",
       "      <th>Date</th>\n",
       "      <th>Centre</th>\n",
       "      <th>Commodity</th>\n",
       "      <th>Price per Kg</th>\n",
       "      <th>Region</th>\n",
       "      <th>Country</th>\n",
       "      <th>Year</th>\n",
       "      <th>Month</th>\n",
       "      <th>Day</th>\n",
       "    </tr>\n",
       "  </thead>\n",
       "  <tbody>\n",
       "    <tr>\n",
       "      <th>0</th>\n",
       "      <td>1997-11-25</td>\n",
       "      <td>LUCKNOW</td>\n",
       "      <td>Tur/Arhar Dal</td>\n",
       "      <td>15.0</td>\n",
       "      <td>NORTH</td>\n",
       "      <td>INDIA</td>\n",
       "      <td>1997</td>\n",
       "      <td>11</td>\n",
       "      <td>25</td>\n",
       "    </tr>\n",
       "    <tr>\n",
       "      <th>1</th>\n",
       "      <td>1997-11-25</td>\n",
       "      <td>BHOPAL</td>\n",
       "      <td>Tur/Arhar Dal</td>\n",
       "      <td>18.0</td>\n",
       "      <td>WEST</td>\n",
       "      <td>INDIA</td>\n",
       "      <td>1997</td>\n",
       "      <td>11</td>\n",
       "      <td>25</td>\n",
       "    </tr>\n",
       "    <tr>\n",
       "      <th>2</th>\n",
       "      <td>1997-11-25</td>\n",
       "      <td>JAIPUR</td>\n",
       "      <td>Tur/Arhar Dal</td>\n",
       "      <td>20.0</td>\n",
       "      <td>WEST</td>\n",
       "      <td>INDIA</td>\n",
       "      <td>1997</td>\n",
       "      <td>11</td>\n",
       "      <td>25</td>\n",
       "    </tr>\n",
       "    <tr>\n",
       "      <th>3</th>\n",
       "      <td>1997-11-25</td>\n",
       "      <td>SHIMLA</td>\n",
       "      <td>Tur/Arhar Dal</td>\n",
       "      <td>21.5</td>\n",
       "      <td>NORTH</td>\n",
       "      <td>INDIA</td>\n",
       "      <td>1997</td>\n",
       "      <td>11</td>\n",
       "      <td>25</td>\n",
       "    </tr>\n",
       "    <tr>\n",
       "      <th>4</th>\n",
       "      <td>1997-11-25</td>\n",
       "      <td>AHMEDABAD</td>\n",
       "      <td>Tur/Arhar Dal</td>\n",
       "      <td>21.5</td>\n",
       "      <td>WEST</td>\n",
       "      <td>INDIA</td>\n",
       "      <td>1997</td>\n",
       "      <td>11</td>\n",
       "      <td>25</td>\n",
       "    </tr>\n",
       "  </tbody>\n",
       "</table>\n",
       "</div>"
      ],
      "text/plain": [
       "        Date     Centre      Commodity  Price per Kg Region Country  Year  \\\n",
       "0 1997-11-25    LUCKNOW  Tur/Arhar Dal          15.0  NORTH   INDIA  1997   \n",
       "1 1997-11-25     BHOPAL  Tur/Arhar Dal          18.0   WEST   INDIA  1997   \n",
       "2 1997-11-25     JAIPUR  Tur/Arhar Dal          20.0   WEST   INDIA  1997   \n",
       "3 1997-11-25     SHIMLA  Tur/Arhar Dal          21.5  NORTH   INDIA  1997   \n",
       "4 1997-11-25  AHMEDABAD  Tur/Arhar Dal          21.5   WEST   INDIA  1997   \n",
       "\n",
       "   Month  Day  \n",
       "0     11   25  \n",
       "1     11   25  \n",
       "2     11   25  \n",
       "3     11   25  \n",
       "4     11   25  "
      ]
     },
     "execution_count": 6,
     "metadata": {},
     "output_type": "execute_result"
    }
   ],
   "source": [
    "data_df.head()"
   ]
  },
  {
   "cell_type": "code",
   "execution_count": 7,
   "metadata": {
    "colab": {},
    "colab_type": "code",
    "id": "AL7mftU4ROUP"
   },
   "outputs": [],
   "source": [
    "data_df.drop(['Date'],axis=1,inplace=True)"
   ]
  },
  {
   "cell_type": "code",
   "execution_count": 8,
   "metadata": {
    "colab": {
     "base_uri": "https://localhost:8080/",
     "height": 206
    },
    "colab_type": "code",
    "id": "nyH1zxJVROUj",
    "outputId": "e8b17be7-3c29-4476-a7e6-9c5650974b17"
   },
   "outputs": [
    {
     "data": {
      "text/html": [
       "<div>\n",
       "<style scoped>\n",
       "    .dataframe tbody tr th:only-of-type {\n",
       "        vertical-align: middle;\n",
       "    }\n",
       "\n",
       "    .dataframe tbody tr th {\n",
       "        vertical-align: top;\n",
       "    }\n",
       "\n",
       "    .dataframe thead th {\n",
       "        text-align: right;\n",
       "    }\n",
       "</style>\n",
       "<table border=\"1\" class=\"dataframe\">\n",
       "  <thead>\n",
       "    <tr style=\"text-align: right;\">\n",
       "      <th></th>\n",
       "      <th>Centre</th>\n",
       "      <th>Commodity</th>\n",
       "      <th>Price per Kg</th>\n",
       "      <th>Region</th>\n",
       "      <th>Country</th>\n",
       "      <th>Year</th>\n",
       "      <th>Month</th>\n",
       "      <th>Day</th>\n",
       "    </tr>\n",
       "  </thead>\n",
       "  <tbody>\n",
       "    <tr>\n",
       "      <th>0</th>\n",
       "      <td>LUCKNOW</td>\n",
       "      <td>Tur/Arhar Dal</td>\n",
       "      <td>15.0</td>\n",
       "      <td>NORTH</td>\n",
       "      <td>INDIA</td>\n",
       "      <td>1997</td>\n",
       "      <td>11</td>\n",
       "      <td>25</td>\n",
       "    </tr>\n",
       "    <tr>\n",
       "      <th>1</th>\n",
       "      <td>BHOPAL</td>\n",
       "      <td>Tur/Arhar Dal</td>\n",
       "      <td>18.0</td>\n",
       "      <td>WEST</td>\n",
       "      <td>INDIA</td>\n",
       "      <td>1997</td>\n",
       "      <td>11</td>\n",
       "      <td>25</td>\n",
       "    </tr>\n",
       "    <tr>\n",
       "      <th>2</th>\n",
       "      <td>JAIPUR</td>\n",
       "      <td>Tur/Arhar Dal</td>\n",
       "      <td>20.0</td>\n",
       "      <td>WEST</td>\n",
       "      <td>INDIA</td>\n",
       "      <td>1997</td>\n",
       "      <td>11</td>\n",
       "      <td>25</td>\n",
       "    </tr>\n",
       "    <tr>\n",
       "      <th>3</th>\n",
       "      <td>SHIMLA</td>\n",
       "      <td>Tur/Arhar Dal</td>\n",
       "      <td>21.5</td>\n",
       "      <td>NORTH</td>\n",
       "      <td>INDIA</td>\n",
       "      <td>1997</td>\n",
       "      <td>11</td>\n",
       "      <td>25</td>\n",
       "    </tr>\n",
       "    <tr>\n",
       "      <th>4</th>\n",
       "      <td>AHMEDABAD</td>\n",
       "      <td>Tur/Arhar Dal</td>\n",
       "      <td>21.5</td>\n",
       "      <td>WEST</td>\n",
       "      <td>INDIA</td>\n",
       "      <td>1997</td>\n",
       "      <td>11</td>\n",
       "      <td>25</td>\n",
       "    </tr>\n",
       "  </tbody>\n",
       "</table>\n",
       "</div>"
      ],
      "text/plain": [
       "      Centre      Commodity  Price per Kg Region Country  Year  Month  Day\n",
       "0    LUCKNOW  Tur/Arhar Dal          15.0  NORTH   INDIA  1997     11   25\n",
       "1     BHOPAL  Tur/Arhar Dal          18.0   WEST   INDIA  1997     11   25\n",
       "2     JAIPUR  Tur/Arhar Dal          20.0   WEST   INDIA  1997     11   25\n",
       "3     SHIMLA  Tur/Arhar Dal          21.5  NORTH   INDIA  1997     11   25\n",
       "4  AHMEDABAD  Tur/Arhar Dal          21.5   WEST   INDIA  1997     11   25"
      ]
     },
     "execution_count": 8,
     "metadata": {},
     "output_type": "execute_result"
    }
   ],
   "source": [
    "list1 = list"
   ]
  },
  {
   "cell_type": "code",
   "execution_count": 9,
   "metadata": {
    "colab": {
     "base_uri": "https://localhost:8080/",
     "height": 579
    },
    "colab_type": "code",
    "id": "6QDzH0vnROU6",
    "outputId": "4aace5be-a3fa-47af-f7df-a9a429aedadd"
   },
   "outputs": [
    {
     "data": {
      "image/png": "[encoded data removed]",
      "text/plain": [
       "<Figure size 720x720 with 2 Axes>"
      ]
     },
     "metadata": {
      "needs_background": "light"
     },
     "output_type": "display_data"
    }
   ],
   "source": [
    "#correlation\n",
    "correlations = data_df.corr()\n",
    "\n",
    "#visualization \n",
    "plt.figure(figsize=(10, 10))\n",
    "g = sns.heatmap(correlations, cbar = True, square = True, annot=True, fmt= '.2f', annot_kws={'size': 10})"
   ]
  },
  {
   "cell_type": "code",
   "execution_count": 10,
   "metadata": {
    "colab": {},
    "colab_type": "code",
    "id": "rkaNjrGRROVP"
   },
   "outputs": [],
   "source": [
    "encode1 = preprocessing.LabelEncoder()\n",
    "encode1.fit(data_df.Region.unique())\n",
    "data_df['Region_Encoded'] = encode1.transform(data_df.Region)\n",
    "data_df.drop(['Region'], axis=1, inplace=True)\n",
    "\n",
    "cols = data_df.columns.tolist()\n",
    "cols = cols[-1:] + cols[:-1]\n",
    "data_df = data_df[cols]\n",
    "\n",
    "    # Encoding categorical data(commodity)\n",
    "    # from sklearn.preprocessing import LabelEncoder, OneHotEncoder\n",
    "encode2 = preprocessing.LabelEncoder()\n",
    "encode2.fit(data_df.Commodity.unique())\n",
    "data_df['Commodity_Encoded'] = encode2.transform(data_df.Commodity)\n",
    "data_df.drop(['Commodity'], axis=1, inplace=True)\n",
    "\n",
    "cols = data_df.columns.tolist()\n",
    "cols = cols[-1:] + cols[:-1]\n",
    "data_df = data_df[cols]\n",
    "\n",
    "\n",
    "    # Encoding categorical data(center)\n",
    "    # from sklearn.preprocessing import LabelEncoder, OneHotEncoder\n",
    "encode3 = preprocessing.LabelEncoder()\n",
    "encode3.fit(data_df.Centre.unique())\n",
    "data_df['Centre_Encoded'] = encode3.transform(data_df.Centre)\n",
    "data_df.drop(['Centre'], axis=1, inplace=True)\n",
    "\n",
    "cols = data_df.columns.tolist()\n",
    "cols = cols[-1:] + cols[:-1]\n",
    "data_df = data_df[cols]\n",
    "\n"
   ]
  },
  {
   "cell_type": "code",
   "execution_count": 11,
   "metadata": {
    "colab": {
     "base_uri": "https://localhost:8080/",
     "height": 206
    },
    "colab_type": "code",
    "id": "LMPL92jnROVj",
    "outputId": "348386a1-4b05-4952-fc9e-1e26db6a2c69"
   },
   "outputs": [
    {
     "data": {
      "text/html": [
       "<div>\n",
       "<style scoped>\n",
       "    .dataframe tbody tr th:only-of-type {\n",
       "        vertical-align: middle;\n",
       "    }\n",
       "\n",
       "    .dataframe tbody tr th {\n",
       "        vertical-align: top;\n",
       "    }\n",
       "\n",
       "    .dataframe thead th {\n",
       "        text-align: right;\n",
       "    }\n",
       "</style>\n",
       "<table border=\"1\" class=\"dataframe\">\n",
       "  <thead>\n",
       "    <tr style=\"text-align: right;\">\n",
       "      <th></th>\n",
       "      <th>Centre_Encoded</th>\n",
       "      <th>Commodity_Encoded</th>\n",
       "      <th>Region_Encoded</th>\n",
       "      <th>Price per Kg</th>\n",
       "      <th>Country</th>\n",
       "      <th>Year</th>\n",
       "      <th>Month</th>\n",
       "      <th>Day</th>\n",
       "    </tr>\n",
       "  </thead>\n",
       "  <tbody>\n",
       "    <tr>\n",
       "      <th>0</th>\n",
       "      <td>39</td>\n",
       "      <td>8</td>\n",
       "      <td>1</td>\n",
       "      <td>15.0</td>\n",
       "      <td>INDIA</td>\n",
       "      <td>1997</td>\n",
       "      <td>11</td>\n",
       "      <td>25</td>\n",
       "    </tr>\n",
       "    <tr>\n",
       "      <th>1</th>\n",
       "      <td>8</td>\n",
       "      <td>8</td>\n",
       "      <td>4</td>\n",
       "      <td>18.0</td>\n",
       "      <td>INDIA</td>\n",
       "      <td>1997</td>\n",
       "      <td>11</td>\n",
       "      <td>25</td>\n",
       "    </tr>\n",
       "    <tr>\n",
       "      <th>2</th>\n",
       "      <td>30</td>\n",
       "      <td>8</td>\n",
       "      <td>4</td>\n",
       "      <td>20.0</td>\n",
       "      <td>INDIA</td>\n",
       "      <td>1997</td>\n",
       "      <td>11</td>\n",
       "      <td>25</td>\n",
       "    </tr>\n",
       "    <tr>\n",
       "      <th>3</th>\n",
       "      <td>61</td>\n",
       "      <td>8</td>\n",
       "      <td>1</td>\n",
       "      <td>21.5</td>\n",
       "      <td>INDIA</td>\n",
       "      <td>1997</td>\n",
       "      <td>11</td>\n",
       "      <td>25</td>\n",
       "    </tr>\n",
       "    <tr>\n",
       "      <th>4</th>\n",
       "      <td>2</td>\n",
       "      <td>8</td>\n",
       "      <td>4</td>\n",
       "      <td>21.5</td>\n",
       "      <td>INDIA</td>\n",
       "      <td>1997</td>\n",
       "      <td>11</td>\n",
       "      <td>25</td>\n",
       "    </tr>\n",
       "  </tbody>\n",
       "</table>\n",
       "</div>"
      ],
      "text/plain": [
       "   Centre_Encoded  Commodity_Encoded  Region_Encoded  Price per Kg Country  \\\n",
       "0              39                  8               1          15.0   INDIA   \n",
       "1               8                  8               4          18.0   INDIA   \n",
       "2              30                  8               4          20.0   INDIA   \n",
       "3              61                  8               1          21.5   INDIA   \n",
       "4               2                  8               4          21.5   INDIA   \n",
       "\n",
       "   Year  Month  Day  \n",
       "0  1997     11   25  \n",
       "1  1997     11   25  \n",
       "2  1997     11   25  \n",
       "3  1997     11   25  \n",
       "4  1997     11   25  "
      ]
     },
     "execution_count": 11,
     "metadata": {},
     "output_type": "execute_result"
    }
   ],
   "source": [
    "data_df.head()"
   ]
  },
  {
   "cell_type": "code",
   "execution_count": 12,
   "metadata": {
    "colab": {},
    "colab_type": "code",
    "id": "4yMUgEhuROV1"
   },
   "outputs": [],
   "source": [
    "data_df.drop(['Country'], axis = 1, inplace = True)"
   ]
  },
  {
   "cell_type": "code",
   "execution_count": 13,
   "metadata": {
    "colab": {
     "base_uri": "https://localhost:8080/",
     "height": 206
    },
    "colab_type": "code",
    "id": "oF7lIw7KROWF",
    "outputId": "62116cbd-cb0d-4543-f63e-13f64bfe2b8d"
   },
   "outputs": [
    {
     "data": {
      "text/html": [
       "<div>\n",
       "<style scoped>\n",
       "    .dataframe tbody tr th:only-of-type {\n",
       "        vertical-align: middle;\n",
       "    }\n",
       "\n",
       "    .dataframe tbody tr th {\n",
       "        vertical-align: top;\n",
       "    }\n",
       "\n",
       "    .dataframe thead th {\n",
       "        text-align: right;\n",
       "    }\n",
       "</style>\n",
       "<table border=\"1\" class=\"dataframe\">\n",
       "  <thead>\n",
       "    <tr style=\"text-align: right;\">\n",
       "      <th></th>\n",
       "      <th>Centre_Encoded</th>\n",
       "      <th>Commodity_Encoded</th>\n",
       "      <th>Region_Encoded</th>\n",
       "      <th>Price per Kg</th>\n",
       "      <th>Year</th>\n",
       "      <th>Month</th>\n",
       "      <th>Day</th>\n",
       "    </tr>\n",
       "  </thead>\n",
       "  <tbody>\n",
       "    <tr>\n",
       "      <th>0</th>\n",
       "      <td>39</td>\n",
       "      <td>8</td>\n",
       "      <td>1</td>\n",
       "      <td>15.0</td>\n",
       "      <td>1997</td>\n",
       "      <td>11</td>\n",
       "      <td>25</td>\n",
       "    </tr>\n",
       "    <tr>\n",
       "      <th>1</th>\n",
       "      <td>8</td>\n",
       "      <td>8</td>\n",
       "      <td>4</td>\n",
       "      <td>18.0</td>\n",
       "      <td>1997</td>\n",
       "      <td>11</td>\n",
       "      <td>25</td>\n",
       "    </tr>\n",
       "    <tr>\n",
       "      <th>2</th>\n",
       "      <td>30</td>\n",
       "      <td>8</td>\n",
       "      <td>4</td>\n",
       "      <td>20.0</td>\n",
       "      <td>1997</td>\n",
       "      <td>11</td>\n",
       "      <td>25</td>\n",
       "    </tr>\n",
       "    <tr>\n",
       "      <th>3</th>\n",
       "      <td>61</td>\n",
       "      <td>8</td>\n",
       "      <td>1</td>\n",
       "      <td>21.5</td>\n",
       "      <td>1997</td>\n",
       "      <td>11</td>\n",
       "      <td>25</td>\n",
       "    </tr>\n",
       "    <tr>\n",
       "      <th>4</th>\n",
       "      <td>2</td>\n",
       "      <td>8</td>\n",
       "      <td>4</td>\n",
       "      <td>21.5</td>\n",
       "      <td>1997</td>\n",
       "      <td>11</td>\n",
       "      <td>25</td>\n",
       "    </tr>\n",
       "  </tbody>\n",
       "</table>\n",
       "</div>"
      ],
      "text/plain": [
       "   Centre_Encoded  Commodity_Encoded  Region_Encoded  Price per Kg  Year  \\\n",
       "0              39                  8               1          15.0  1997   \n",
       "1               8                  8               4          18.0  1997   \n",
       "2              30                  8               4          20.0  1997   \n",
       "3              61                  8               1          21.5  1997   \n",
       "4               2                  8               4          21.5  1997   \n",
       "\n",
       "   Month  Day  \n",
       "0     11   25  \n",
       "1     11   25  \n",
       "2     11   25  \n",
       "3     11   25  \n",
       "4     11   25  "
      ]
     },
     "execution_count": 13,
     "metadata": {},
     "output_type": "execute_result"
    }
   ],
   "source": [
    "data_df.head()"
   ]
  },
  {
   "cell_type": "code",
   "execution_count": 14,
   "metadata": {
    "colab": {},
    "colab_type": "code",
    "id": "SqU-IK1uROWU"
   },
   "outputs": [],
   "source": [
    "X = data_df.iloc[:,0:3]\n",
    "y = data_df.iloc[:,3:4]"
   ]
  },
  {
   "cell_type": "code",
   "execution_count": 15,
   "metadata": {
    "colab": {},
    "colab_type": "code",
    "id": "GnD7qdLTROXB"
   },
   "outputs": [],
   "source": [
    "from sklearn.preprocessing import StandardScaler\n",
    "sc_X = StandardScaler()\n",
    "sc_y = StandardScaler()\n",
    "\n",
    "X = sc_X.fit_transform(X)\n",
    "y = sc_y.fit_transform(y)\n",
    "\n",
    "\n",
    "# Splitting the dataset into the Training set and Test set\n",
    "from sklearn.model_selection import train_test_split\n",
    "X_train, X_test, y_train, y_test = train_test_split(X, y, test_size = 0.2, random_state = 0)\n",
    "\n",
    "  \n"
   ]
  },
  {
   "cell_type": "code",
   "execution_count": 16,
   "metadata": {
    "colab": {},
    "colab_type": "code",
    "id": "R2oYevw4XTis"
   },
   "outputs": [],
   "source": [
    "from sklearn.ensemble import RandomForestRegressor\n",
    "regressor = RandomForestRegressor(n_estimators = 10, random_state = 0)\n",
    "regressor= regressor.fit(X_train, y_train.ravel())"
   ]
  },
  {
   "cell_type": "code",
   "execution_count": 17,
   "metadata": {
    "colab": {
     "base_uri": "https://localhost:8080/",
     "height": 35
    },
    "colab_type": "code",
    "id": "I2vsaGYQV2pj",
    "outputId": "da30f750-31bd-45ad-e58d-ce9141583bdd"
   },
   "outputs": [
    {
     "data": {
      "text/plain": [
       "90.55"
      ]
     },
     "execution_count": 17,
     "metadata": {},
     "output_type": "execute_result"
    }
   ],
   "source": [
    "model_score_test = round(regressor.score(X_test, y_test.ravel()) * 100, 2)\n",
    "model_score_test"
   ]
  },
  {
   "cell_type": "code",
   "execution_count": 18,
   "metadata": {
    "colab": {},
    "colab_type": "code",
    "id": "JT09DZ7LROXN"
   },
   "outputs": [],
   "source": [
    "final_feature = []\n",
    "\n",
    "center = \"LUCKNOW\"\n",
    "final_feature.append(int(encode3.transform([center])))\n",
    "  \n",
    "commodity = \"Tea Loose\"\n",
    "final_feature.append(int(encode2.transform([commodity])))\n",
    "    \n",
    "region = \"WEST\"\n",
    "final_feature.append(int(encode1.transform([region])))\n",
    "   \n"
   ]
  },
  {
   "cell_type": "code",
   "execution_count": 19,
   "metadata": {
    "colab": {},
    "colab_type": "code",
    "id": "6SZKqKhwYI5o"
   },
   "outputs": [],
   "source": [
    "final_feature = sc_X.transform(np.array(final_feature).reshape(1,-1))\n",
    "prediction = regressor.predict(final_feature)\n"
   ]
  },
  {
   "cell_type": "code",
   "execution_count": 20,
   "metadata": {
    "colab": {
     "base_uri": "https://localhost:8080/",
     "height": 35
    },
    "colab_type": "code",
    "id": "BKEgZI_iZhAV",
    "outputId": "4fc37780-5307-4cef-bda5-6246bcc36f09"
   },
   "outputs": [
    {
     "name": "stdout",
     "output_type": "stream",
     "text": [
      "[172.03752549]\n"
     ]
    }
   ],
   "source": [
    "\n",
    "print(sc_y.inverse_transform(prediction))"
   ]
  }
 ],
 "metadata": {
  "colab": {
   "name": "Anjali_Queen.ipynb",
   "provenance": []
  },
  "kernelspec": {
   "display_name": "Python 3",
   "language": "python",
   "name": "python3"
  },
  "language_info": {
   "codemirror_mode": {
    "name": "ipython",
    "version": 3
   },
   "file_extension": ".py",
   "mimetype": "text/x-python",
   "name": "python",
   "nbconvert_exporter": "python",
   "pygments_lexer": "ipython3",
   "version": "3.7.6"
  }
 },
 "nbformat": 4,
 "nbformat_minor": 1
}
